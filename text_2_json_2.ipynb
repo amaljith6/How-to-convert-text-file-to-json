{
 "cells": [
  {
   "cell_type": "code",
   "execution_count": 1,
   "id": "38e485e7",
   "metadata": {},
   "outputs": [],
   "source": [
    "import json\n",
    "import pandas\n",
    "import re"
   ]
  },
  {
   "cell_type": "code",
   "execution_count": 3,
   "id": "0aa46fa5",
   "metadata": {},
   "outputs": [],
   "source": [
    "# Reading text file\n",
    "text_file = r'data.txt'\n",
    "f = open(text_file,encoding=\"utf8\")\n",
    "text_string = f.read()"
   ]
  },
  {
   "cell_type": "code",
   "execution_count": 4,
   "id": "b4cdf441",
   "metadata": {},
   "outputs": [],
   "source": [
    "# Splitting text file on double new line\n",
    "split_file = text_string.split(\"\\n\\n\")\n"
   ]
  },
  {
   "cell_type": "code",
   "execution_count": 5,
   "id": "defb3d8a",
   "metadata": {},
   "outputs": [],
   "source": [
    "# Function for creating list of dictionaries for each \"split_file\"\n",
    "def create_dict(file):\n",
    "    temp_dict = {\"URL\":\"\",\"MENTION\":[],\"TOKEN\":[]}\n",
    "\n",
    "    for i in file:\n",
    "        check = i.strip().split(None)\n",
    "        if check[0] == \"URL\":\n",
    "            command, description = i.strip().split(None, 1)\n",
    "            temp_dict[command] = description\n",
    "        elif check[0] == \"MENTION\":\n",
    "            command, description_1, description_2, description_3  = i.strip().split('\\t')\n",
    "            if temp_dict[command]:\n",
    "                temp_dict[command].append({\"value\":description_1,\"id\":description_2,\"url\":description_3})\n",
    "            else:\n",
    "                temp_dict[command] = [{\"value\":description_1,\"id\":description_2,\"url\":description_3}]\n",
    "\n",
    "        elif check[0] == \"TOKEN\":\n",
    "            command, description_1, description_2 = i.strip().split('\\t')\n",
    "            if temp_dict[command]:\n",
    "                temp_dict[command].append({\"value\": description_1, \"id\": description_2})\n",
    "            else:\n",
    "                temp_dict[command] = [{\"value\": description_1, \"id\": description_2}]\n",
    "\n",
    "    return temp_dict\n",
    "\n"
   ]
  },
  {
   "cell_type": "code",
   "execution_count": 6,
   "id": "388cf4ec",
   "metadata": {},
   "outputs": [],
   "source": [
    "# Creating list of dictionaries for each \"split_file\"\n",
    "final_json_list = []\n",
    "\n",
    "for file in range(len(split_file)-1):\n",
    "    j = [i for i in split_file[file].split('\\n') if i != \"\"]\n",
    "    dict_req = create_dict(j)\n",
    "    final_json_list.append(dict_req)\n"
   ]
  },
  {
   "cell_type": "code",
   "execution_count": 7,
   "id": "f0557495",
   "metadata": {},
   "outputs": [
    {
     "data": {
      "text/plain": [
       "1089244"
      ]
     },
     "execution_count": 7,
     "metadata": {},
     "output_type": "execute_result"
    }
   ],
   "source": [
    "len(split_file)"
   ]
  },
  {
   "cell_type": "code",
   "execution_count": 8,
   "id": "b6210f99",
   "metadata": {},
   "outputs": [
    {
     "name": "stderr",
     "output_type": "stream",
     "text": [
      "IOPub data rate exceeded.\n",
      "The notebook server will temporarily stop sending output\n",
      "to the client in order to avoid crashing it.\n",
      "To change this limit, set the config variable\n",
      "`--NotebookApp.iopub_data_rate_limit`.\n",
      "\n",
      "Current values:\n",
      "NotebookApp.iopub_data_rate_limit=1000000.0 (bytes/sec)\n",
      "NotebookApp.rate_limit_window=3.0 (secs)\n",
      "\n"
     ]
    }
   ],
   "source": [
    "final_json = {\"base\":final_json_list}\n",
    "print(final_json)\n"
   ]
  },
  {
   "cell_type": "code",
   "execution_count": 9,
   "id": "4666cd52",
   "metadata": {},
   "outputs": [],
   "source": [
    "f = open('final_data.json','w')\n",
    "json.dump(final_json, f)\n",
    "f.close()"
   ]
  },
  {
   "cell_type": "code",
   "execution_count": null,
   "id": "96db84bc",
   "metadata": {},
   "outputs": [],
   "source": []
  }
 ],
 "metadata": {
  "kernelspec": {
   "display_name": "Python 3",
   "language": "python",
   "name": "python3"
  },
  "language_info": {
   "codemirror_mode": {
    "name": "ipython",
    "version": 3
   },
   "file_extension": ".py",
   "mimetype": "text/x-python",
   "name": "python",
   "nbconvert_exporter": "python",
   "pygments_lexer": "ipython3",
   "version": "3.8.8"
  }
 },
 "nbformat": 4,
 "nbformat_minor": 5
}
